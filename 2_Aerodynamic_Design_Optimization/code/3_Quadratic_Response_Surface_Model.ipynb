{
 "cells": [
  {
   "cell_type": "markdown",
   "metadata": {},
   "source": [
    "# 二次响应面模型(Quadratic Response Surface Model, QRSM)\n",
    "\n",
    "## 模型描述：\n",
    "$$\n",
    "\\begin{aligned}\n",
    "y(\\mathbf{x}) &= \\hat{y}(\\mathbf{x})+\\varepsilon, \\mathbf{x} \\in \\mathbb{R}^{m} \\\\\n",
    "\\hat{y}(\\mathbf{x}) &= \\beta_{0}+\\sum_{i=1}^{m} \\beta_{i} x_{i}+\\sum_{i=1}^{m} \\beta_{i i} x_{i}^{2}+\\sum_{i=1}^{m} \\sum_{j \\geq i}^{m} \\beta_{i j} x_{i} x_{j}\n",
    "\\end{aligned}\n",
    "$$\n",
    "系数可由以下公式得到：\n",
    "$$\n",
    "\\boldsymbol{\\beta}=\\left(\\mathbf{U}^{\\mathrm{T}} \\mathbf{U}\\right)^{-1} \\mathbf{U}^{\\mathrm{T}} \\mathbf{y}_{S}\n",
    "$$\n",
    "$$\n",
    "\\mathbf{U}=\\left[\\begin{array}{cccccccccc}\n",
    "1 & x_{1}^{(1)} & \\cdots & x_{m}^{(1)} & x_{1}^{(1)} x_{2}^{(1)} & \\cdots & x_{m-1}^{(1)} x_{m}^{(1)} & \\left(x_{1}^{(1)}\\right)^{2} & \\cdots & \\left(x_{m}^{(1)}\\right)^{2} \\\\\n",
    "\\vdots & \\vdots & \\ddots & \\vdots & \\vdots & \\ddots & \\vdots & \\vdots & \\ddots & \\vdots \\\\\n",
    "1 & x_{1}^{(n)} & \\cdots & x_{m}^{(n)} & x_{1}^{(n)} x_{2}^{(n)} & \\cdots & x_{m-1}^{(n)} x_{m}^{(n)} & \\left(x_{2}^{(n)}\\right)^{2} & \\cdots & \\left(x_{m}^{(n)}\\right)^{2}\n",
    "\\end{array}\\right] \\in \\mathbb{R}^{n \\times p} ,p=(m+1)(m+2) / 2\n",
    "$$"
   ]
  },
  {
   "cell_type": "code",
   "execution_count": 18,
   "metadata": {},
   "outputs": [],
   "source": [
    "import numpy as np\n",
    "\n",
    "class QRSM():\n",
    "    \"\"\" \n",
    "    Quadratic Response Surface Model. \n",
    "    \n",
    "    input:  xs --- numpy array ([num*dim]), the inital samples.   \n",
    "            ys --- numpy array ([num]), the response of xs.\n",
    "            xlow --- numpy array ([num]), the low boundary of x.\n",
    "            xup --- numpy array ([num]), the up boundary of x.\n",
    "    fuction:    Model --- build the Quadratic Response Surface Model.\n",
    "                Predict --- Predict response of the input sample. \n",
    "    \"\"\"\n",
    "    def __init__(self, xs, ys, xlow, xup):\n",
    "        self.xs = xs\n",
    "        self.ys = ys\n",
    "        self.xlow = xlow\n",
    "        self.xup = xup\n",
    "        self.n = xs.shape[0] # the number of the inital samples\n",
    "        self.m = xs.shape[1] # the dimension of desicion varibles\n",
    "        self.p = int((self.m + 1) * (self.m + 2) / 2)\n",
    "        self.U = np.ones([self.n, self.p])\n",
    "        self.beta = np.zeros([self.p, 1])\n",
    "\n",
    "        # normalize the desicion varibles\n",
    "        for i in range(self.m):\n",
    "            self.xs[:, i] = (self.xs[:, i] - xlow[i]) / (xup[i] - xlow[i])\n",
    "\n",
    "    def Model(self):\n",
    "        \"\"\"\n",
    "        Build the Quadratic Response Surface Model.\n",
    "        \"\"\"\n",
    "        # Define the matrix U\n",
    "        for index in range(1, self.m+1): # the linear items.\n",
    "            j = index - 1\n",
    "            for i in range(self.n):\n",
    "                self.U[i][index] = self.xs[i][j]\n",
    "        index = self.m+1 # the crossover items.\n",
    "        for j in range(self.m-1):\n",
    "            for k in range(j+1, self.m):\n",
    "                for i in range(self.n):\n",
    "                    self.U[i][index] = self.xs[i][j] * self.xs[i][k]\n",
    "                index += 1\n",
    "        for index in range(int(self.m+1+self.m*(self.m-1)/2), self.p): # the quadratic items\n",
    "            j = index - int(self.m+1+self.m*(self.m-1)/2)\n",
    "            for i in range(self.n):\n",
    "                self.U[i][index] = self.xs[i][j]**2\n",
    "\n",
    "        # Calculate the coefficients\n",
    "        self.beta = np.dot(self.U.T, self.U)\n",
    "        if(np.linalg.det(self.beta) == 0):\n",
    "            print(\"The matrix UT*U is a singular matrix\")\n",
    "            quit()\n",
    "        self.beta = np.linalg.inv(np.dot(self.U.T, self.U))\n",
    "        self.beta = np.dot(self.beta, self.U.T)\n",
    "        self.beta = np.dot(self.beta, self.ys.reshape(self.n, 1))\n",
    "\n",
    "    def Predict(self, x):\n",
    "        \"\"\"\n",
    "        Prediction by RSM\n",
    "\n",
    "        input: x --- numpy array (dim), the preditive sample\n",
    "        output: y --- float number, the prediction by RSM\n",
    "        \"\"\"\n",
    "        x = x.reshape(dim)\n",
    "\n",
    "        for i in range(self.m):\n",
    "            x[i] = (x[i] - self.xlow[i]) / (self.xup[i] - self.xlow[i])\n",
    "\n",
    "        predict0 = self.beta[0, 0]\n",
    "        predict1 = 0 # the linear items.\n",
    "        for index in range(1, self.m+1):\n",
    "            j = index - 1\n",
    "            predict1 += self.beta[index,0] * x[j]\n",
    "        predict2 = 0 # the crossover items.\n",
    "        index = self.m+1 \n",
    "        for j in range(self.m-1):\n",
    "            for k in range(j+1, self.m):\n",
    "                predict2 += self.beta[index,0] + x[j] * x[k]\n",
    "                index += 1\n",
    "        predict3 = 0 # the quadratic items\n",
    "        for index in range(int(self.m+1+self.m*(self.m-1)/2), self.p): \n",
    "            j = index - int(self.m+1+self.m*(self.m-1)/2)\n",
    "            predict3 += self.beta[index,0] * x[j]**2\n",
    "\n",
    "        return predict0 + predict1 + predict2 + predict3\n"
   ]
  },
  {
   "cell_type": "markdown",
   "metadata": {},
   "source": [
    "## Test\n",
    "\n",
    "选用一维Forrest函数"
   ]
  },
  {
   "cell_type": "code",
   "execution_count": 42,
   "metadata": {},
   "outputs": [
    {
     "data": {
      "image/png": "[encoded data removed]",
      "text/plain": [
       "<Figure size 432x288 with 1 Axes>"
      ]
     },
     "metadata": {
      "needs_background": "light"
     },
     "output_type": "display_data"
    }
   ],
   "source": [
    "import random\n",
    "import matplotlib.pyplot as plt\n",
    "\n",
    "def LHS(n,d):\n",
    "    x = np.zeros([n,d])\n",
    "    p = np.linspace(0,n-1,n)\n",
    "    for j in range(d):\n",
    "        random.shuffle(p)\n",
    "        for i in range(n):    \n",
    "            x[i,j] = ( p[i] + random.random() ) / n\n",
    "    return x\n",
    "\n",
    "def forrester(x):\n",
    "    y =  (6*x-2)**2 * np.sin(12*x-4)\n",
    "    return y\n",
    "\n",
    "dim = 1\n",
    "num_init = 10\n",
    "xs = LHS(num_init, dim)\n",
    "#xlow = np.zeros(dim)\n",
    "xlow = np.array([0.6])\n",
    "xup = np.ones(dim)\n",
    "xs = xs*(1.0-0.6)+0.6\n",
    "ys = forrester(xs)\n",
    "\n",
    "model = QRSM(xs=xs, ys=ys, xlow=xlow, xup=xup)\n",
    "model.Model()\n",
    "\n",
    "x = np.linspace(0.6, 1,100).reshape(100,1)\n",
    "y = np.zeros(100)\n",
    "yture = np.zeros(100)\n",
    "for i in range(100):\n",
    "    y[i] = model.Predict(x[i])\n",
    "x = np.linspace(0.6, 1,100).reshape(100,1)\n",
    "yture = forrester(x)\n",
    "\n",
    "plt.plot(x, y)\n",
    "plt.plot(x, yture)\n",
    "xs = xs*(1.0-0.6)+0.6\n",
    "plt.scatter(xs, ys)\n",
    "plt.show()\n"
   ]
  },
  {
   "cell_type": "code",
   "execution_count": 15,
   "metadata": {},
   "outputs": [
    {
     "name": "stdout",
     "output_type": "stream",
     "text": [
      "[0.01010101]\n"
     ]
    }
   ],
   "source": [
    "import numpy as np\n",
    "x = np.zeros([2,3])\n",
    "y = np.zeros([3,1])\n",
    "z = 0\n",
    "x = np.linspace(0,1,100).reshape(100,1)\n",
    "print(x[1])"
   ]
  }
 ],
 "metadata": {
  "interpreter": {
   "hash": "213524bb45a1aeaf737b1d8c77d7b8db5d425938d9dffc5f4bc6fe6dd3324700"
  },
  "kernelspec": {
   "display_name": "Python 3.10.0 64-bit",
   "language": "python",
   "name": "python3"
  },
  "language_info": {
   "codemirror_mode": {
    "name": "ipython",
    "version": 3
   },
   "file_extension": ".py",
   "mimetype": "text/x-python",
   "name": "python",
   "nbconvert_exporter": "python",
   "pygments_lexer": "ipython3",
   "version": "3.10.0"
  },
  "orig_nbformat": 4
 },
 "nbformat": 4,
 "nbformat_minor": 2
}
