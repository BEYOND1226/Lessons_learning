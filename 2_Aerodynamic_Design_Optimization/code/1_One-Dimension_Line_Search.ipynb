{
 "cells": [
  {
   "cell_type": "markdown",
   "metadata": {},
   "source": [
    "# One-Dimension Line Search 一维线搜索\n",
    "\n",
    "## 问题描述\n",
    "\n",
    "Consider a rectangular wing of span $b$ and chord $c$. Its planform area is thus $ S=b c $ and its aspect ratio is $ A = b^{2} / S $. The drag of this wing can be approximated as,\n",
    "$$\n",
    "C_{D}=k C_{f} \\frac{S_{w e t}}{S}+\\frac{C_{L}^{2}}{\\pi A e}\n",
    "$$\n",
    "The first term corresponds to the parasite drag. $ C_{f} $ is the skin friction coefficient, which for a fully turbulent boundary layer can be approximated as,\n",
    "$$\n",
    "C_{f}=\\frac{0.074}{R e^{0.2}}\n",
    "$$\n",
    "Here, the Reynolds number $ (R e=\\rho V c / \\mu) $ is based on the wing chord. $ k $ is the form factor, which accounts for the effects of pressure drag.\n",
    "\n",
    "The second term in Equation (1) is the induced drag, where $ e $ is the Oswald efficiency factor. The lift coefficient $ C_{L} $ and the wing planform area $ S $ are to be kept constant. The values for all the constants are listed in Table 1. \n",
    "\n",
    "1. Write the total drag coefficient as a function of $ A $.\n",
    "2. Minimize $ C_{D} $ with respect to $ A $ using:   \n",
    "    (a) The golden section method  \n",
    "    (b) A line search method that satisfies sufficient decrease. (Bonus: A line search that satisfies the strong Wolfe conditions.)  \n",
    "    Converge the solutions to 6 significant digits.  \n",
    "3. Discuss the relative performance of these two methods. Try different starting points/intervals and compare convergence rates, number of iterations and any other metrics you find suitable.\n",
    "\n",
    "\\begin{array}{lrll}\n",
    "\\text { Quantity } & \\text { Value } & \\text { Units } & \\text { Description } \\\\\n",
    "\\hline \\rho & 1.23 & \\mathrm{~kg} / \\mathrm{m}^{3} & \\text { density of air } \\\\\n",
    "\\mu & 17.8 \\times 10^{-6} & \\mathrm{~kg} /(\\mathrm{m} \\mathrm{sec}) & \\text { viscosity of air } \\\\\n",
    "V & 35 & \\mathrm{~m} / \\mathrm{s} & \\text { airspeed } \\\\\n",
    "S & 11.8 & \\mathrm{~m}^{2} & \\text { planform area } \\\\\n",
    "S_{\\text {wet }} & 2.05 S & \\mathrm{~m}^{2} & \\text { wing wetted area } \\\\\n",
    "k & 1.2 & & \\text { form factor } \\\\\n",
    "C_{L} & 0.3 & & \\text { lift coefficient } \\\\\n",
    "e & 0.96 & & \\text { Oswald efficiency factor } \\\\\n",
    "\\hline\n",
    "\\end{array}\n"
   ]
  },
  {
   "cell_type": "code",
   "execution_count": 2,
   "metadata": {},
   "outputs": [],
   "source": [
    "import numpy as np\n",
    "\n",
    "def Cal_Re(c, rho=1.23, V=35.0, mu=17.8e-6):\n",
    "    \"\"\"Calculate Reynolds number.\"\"\"\n",
    "    return rho*V*c/mu\n",
    "\n",
    "def Cal_Cf(Re):\n",
    "    \"\"\"Calculate the skin friction coefficient\"\"\"\n",
    "    return 0.074/(Re**0.2)\n",
    "\n",
    "def Cal_Cd(A, k=1.2, S=11.8, Sratio=2.05, Cl=0.3, e=0.96):\n",
    "    \"\"\"Calculate the total drag coefficient as the function of A\"\"\"\n",
    "    b = np.sqrt(A*S)\n",
    "    c = S/b\n",
    "    Re = Cal_Re(c)\n",
    "    Cf = Cal_Cf(Re)\n",
    "    return k*Cf*Sratio+Cl**2/(np.pi*A*e)    "
   ]
  },
  {
   "cell_type": "markdown",
   "metadata": {},
   "source": [
    "## The Golden Section Method 黄金切割法"
   ]
  },
  {
   "cell_type": "code",
   "execution_count": 19,
   "metadata": {},
   "outputs": [
    {
     "name": "stdout",
     "output_type": "stream",
     "text": [
      "The accutry has reached 1e-06\n",
      "Iteration = 21\n",
      "28.394872656148546 0.011560688987446468\n"
     ]
    }
   ],
   "source": [
    "class GoldenSectionMethod():\n",
    "    \"\"\"Golden Section Method\"\"\"\n",
    "    def __init__(self, function, x_min=0.0, x_max=100.0, tau=0.618, error = 1e-6):\n",
    "        self.x_max = x_max\n",
    "        self.x_min = x_min\n",
    "        self.function = function\n",
    "        self.tau = tau\n",
    "        self.error = error\n",
    "\n",
    "    def Search(self, iter_max=2000):\n",
    "        b = self.x_max\n",
    "        a = self.x_min\n",
    "        n = a + (b-a)*self.tau\n",
    "        m = b - (b-a)*self.tau\n",
    "        iteration = 1\n",
    "        min_index_old = 100000\n",
    "\n",
    "        while(iteration<=iter_max):\n",
    "            if( self.function(m) <= self.function(n)):\n",
    "                min_index = m\n",
    "                b = n\n",
    "            else:\n",
    "                min_index = n \n",
    "                a = m\n",
    "            n = a + (b-a)*self.tau\n",
    "            m = b - (b-a)*self.tau \n",
    "\n",
    "            if(abs(min_index - min_index_old)<=self.error):\n",
    "                print(\"The accutry has reached \"+str(self.error))\n",
    "                print('Iteration = '+str(iteration))\n",
    "                break\n",
    "\n",
    "            min_index_old = min_index\n",
    "            iteration += 1\n",
    "\n",
    "        return min_index, self.function(min_index)\n",
    "\n",
    "Golden = GoldenSectionMethod(function=Cal_Cd)\n",
    "A_min, Cd_min = Golden.Search()\n",
    "print(A_min,Cd_min)"
   ]
  },
  {
   "cell_type": "markdown",
   "metadata": {},
   "source": [
    "## A line search that satisfies the strong Wolfe conditions."
   ]
  }
 ],
 "metadata": {
  "interpreter": {
   "hash": "e7370f93d1d0cde622a1f8e1c04877d8463912d04d973331ad4851f04de6915a"
  },
  "kernelspec": {
   "display_name": "Python 3.10.4 64-bit",
   "language": "python",
   "name": "python3"
  },
  "language_info": {
   "codemirror_mode": {
    "name": "ipython",
    "version": 3
   },
   "file_extension": ".py",
   "mimetype": "text/x-python",
   "name": "python",
   "nbconvert_exporter": "python",
   "pygments_lexer": "ipython3",
   "version": "3.10.4"
  },
  "orig_nbformat": 4
 },
 "nbformat": 4,
 "nbformat_minor": 2
}
