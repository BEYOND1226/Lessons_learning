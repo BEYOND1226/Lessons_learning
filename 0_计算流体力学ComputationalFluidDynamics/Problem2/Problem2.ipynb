{
 "cells": [
  {
   "cell_type": "markdown",
   "metadata": {},
   "source": [
    "# 求解一维Burgers方程\n",
    "\n",
    "$$\n",
    "\\frac{\\partial u}{\\partial t}+u \\frac{\\partial u}{\\partial x}=\\mu \\frac{\\partial^{2} u}{\\partial x^{2}}\n",
    "$$\n",
    "\n",
    "## 初始条件\n",
    "\n",
    "$$\n",
    "u(x, 0)=-0.5 x \\quad x \\in[-1,1]\n",
    "$$\n",
    "\n",
    "## 边界条件\n",
    "\n",
    "$$\n",
    "\\left\\{\\begin{array}{l}u(-1, t)=0.5 \\\\ u(1, t)=-0.5\\end{array}\\right. \n",
    "$$\n",
    "\n",
    "\n",
    "\n",
    "## 计算结果\n",
    "\n",
    "给出 $ \\mu $ 和无量纲时间 $ t $ 取如下值时的计算结果。\n",
    "$$\n",
    "\\begin{array}{l}\n",
    "\\mu=0,0.05,0.01,0.05 \\\\\n",
    "t=0.8,1.6,2.0\n",
    "\\end{array}\n",
    "$$\n",
    "\n",
    "\n"
   ]
  }
 ],
 "metadata": {
  "language_info": {
   "name": "python"
  },
  "orig_nbformat": 4
 },
 "nbformat": 4,
 "nbformat_minor": 2
}
